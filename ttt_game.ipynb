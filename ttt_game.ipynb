{
  "nbformat": 4,
  "nbformat_minor": 0,
  "metadata": {
    "colab": {
      "provenance": []
    },
    "kernelspec": {
      "name": "python3",
      "display_name": "Python 3"
    },
    "language_info": {
      "name": "python"
    }
  },
  "cells": [
    {
      "cell_type": "code",
      "source": [
        "import random\n",
        "\n",
        "board = [\" \" for _ in range(9)]\n",
        "\n",
        "def print_board():\n",
        "    row1 = \"| {} | {} | {} |\".format(board[0], board[1], board[2])\n",
        "    row2 = \"| {} | {} | {} |\".format(board[3], board[4], board[5])\n",
        "    row3 = \"| {} | {} | {} |\".format(board[6], board[7], board[8])\n",
        "\n",
        "    print()\n",
        "    print(row1)\n",
        "    print(row2)\n",
        "    print(row3)\n",
        "    print()\n",
        "\n",
        "def player_move(icon):\n",
        "    if icon == \"X\":\n",
        "        number = 1\n",
        "        print(\"Your turn player {}\".format(number))\n",
        "        choice = int(input(\"Enter your move (1-9): \").strip())\n",
        "        if board[choice - 1] == \" \":\n",
        "            board[choice - 1] = icon\n",
        "        else:\n",
        "            print()\n",
        "            print(\"That space is already taken!\")\n",
        "            player_move(icon)  # Allow the player to try again\n",
        "    elif icon == \"O\":\n",
        "        choice = random.choice([i for i in range(1, 10) if board[i - 1] == \" \"])\n",
        "        board[choice - 1] = icon\n",
        "        print(\"Computer (O) has made its move at position {}\".format(choice))\n",
        "\n",
        "def win(icon):\n",
        "    return (board[0] == icon and board[1] == icon and board[2] == icon) or \\\n",
        "           (board[3] == icon and board[4] == icon and board[5] == icon) or \\\n",
        "           (board[6] == icon and board[7] == icon and board[8] == icon) or \\\n",
        "           (board[0] == icon and board[3] == icon and board[6] == icon) or \\\n",
        "           (board[1] == icon and board[4] == icon and board[7] == icon) or \\\n",
        "           (board[2] == icon and board[5] == icon and board[8] == icon) or \\\n",
        "           (board[0] == icon and board[4] == icon and board[8] == icon) or \\\n",
        "           (board[2] == icon and board[4] == icon and board[6] == icon)\n",
        "\n",
        "def draw():\n",
        "    return \" \" not in board\n",
        "\n",
        "while True:\n",
        "    print_board()\n",
        "    player_move(\"X\")\n",
        "    if win(\"X\"):\n",
        "        print_board()\n",
        "        print(\"X wins! Congratulations!\")\n",
        "        break\n",
        "    elif draw():\n",
        "        print_board()\n",
        "        print(\"It's a draw!\")\n",
        "        break\n",
        "\n",
        "    player_move(\"O\")\n",
        "    if win(\"O\"):\n",
        "        print_board()\n",
        "        print(\"O wins! Congratulations!\")\n",
        "        break\n",
        "    elif draw():\n",
        "        print_board()\n",
        "        print(\"It's a draw!\")\n",
        "        break"
      ],
      "metadata": {
        "colab": {
          "base_uri": "https://localhost:8080/"
        },
        "id": "sOnwGFGmrTS-",
        "outputId": "ced8d8b0-c13b-4269-914c-e374c3e6e8b8"
      },
      "execution_count": 9,
      "outputs": [
        {
          "output_type": "stream",
          "name": "stdout",
          "text": [
            "\n",
            "|   |   |   |\n",
            "|   |   |   |\n",
            "|   |   |   |\n",
            "\n",
            "Your turn player 1\n",
            "Enter your move (1-9): 9\n",
            "Computer (O) has made its move at position 2\n",
            "\n",
            "|   | O |   |\n",
            "|   |   |   |\n",
            "|   |   | X |\n",
            "\n",
            "Your turn player 1\n",
            "Enter your move (1-9): 7\n",
            "Computer (O) has made its move at position 1\n",
            "\n",
            "| O | O |   |\n",
            "|   |   |   |\n",
            "| X |   | X |\n",
            "\n",
            "Your turn player 1\n",
            "Enter your move (1-9): 3\n",
            "Computer (O) has made its move at position 8\n",
            "\n",
            "| O | O | X |\n",
            "|   |   |   |\n",
            "| X | O | X |\n",
            "\n",
            "Your turn player 1\n",
            "Enter your move (1-9): 4\n",
            "Computer (O) has made its move at position 5\n",
            "\n",
            "| O | O | X |\n",
            "| X | O |   |\n",
            "| X | O | X |\n",
            "\n",
            "O wins! Congratulations!\n"
          ]
        }
      ]
    },
    {
      "cell_type": "code",
      "source": [],
      "metadata": {
        "id": "QG75ig580F3U"
      },
      "execution_count": null,
      "outputs": []
    }
  ]
}