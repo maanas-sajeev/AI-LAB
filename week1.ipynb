{
  "nbformat": 4,
  "nbformat_minor": 0,
  "metadata": {
    "colab": {
      "provenance": []
    },
    "kernelspec": {
      "name": "python3",
      "display_name": "Python 3"
    },
    "language_info": {
      "name": "python"
    }
  },
  "cells": [
    {
      "cell_type": "code",
      "source": [
        "a=1\n",
        "print(type(a))\n",
        "a=1.111\n",
        "print(type(a))\n",
        "a=True\n",
        "print(type(a))\n",
        "a=\"hellooo\"\n",
        "print(type(a))\n",
        "a=['a']\n",
        "print(type(a))\n",
        "a={'a'}\n",
        "print(type(a))\n",
        "a=(1,2,3)\n",
        "print(type(a))\n",
        "a={2:1,3:2}\n",
        "print(type(a))"
      ],
      "metadata": {
        "colab": {
          "base_uri": "https://localhost:8080/"
        },
        "id": "S7_0PvyjpeIA",
        "outputId": "b9b32257-ccc5-419a-a146-654a9d798f07"
      },
      "execution_count": null,
      "outputs": [
        {
          "output_type": "stream",
          "name": "stdout",
          "text": [
            "<class 'int'>\n",
            "<class 'float'>\n",
            "<class 'bool'>\n",
            "<class 'str'>\n",
            "<class 'list'>\n",
            "<class 'set'>\n",
            "<class 'tuple'>\n",
            "<class 'dict'>\n"
          ]
        }
      ]
    },
    {
      "cell_type": "code",
      "source": [
        "#program to create,append and remove lists in python\n",
        "\n",
        "li=[]\n",
        "li.append(10)\n",
        "li.append(20)\n",
        "li.append(30)\n",
        "\n",
        "print(\"List after appending elements:\", li)\n",
        "li.remove(20)\n",
        "print(\"List after removing 20:\", li)\n",
        "del li[0]\n",
        "print(\"List after removing element at index 0:\", li)"
      ],
      "metadata": {
        "colab": {
          "base_uri": "https://localhost:8080/"
        },
        "id": "jybt_0-Spgon",
        "outputId": "5d8004d7-517a-413b-b3c8-209a02e2400f"
      },
      "execution_count": null,
      "outputs": [
        {
          "output_type": "stream",
          "name": "stdout",
          "text": [
            "List after appending elements: [10, 20, 30]\n",
            "List after removing 20: [10, 30]\n",
            "List after removing element at index 0: [30]\n"
          ]
        }
      ]
    },
    {
      "cell_type": "code",
      "source": [
        "tu=(1,2,1.1,\"hi\",False)\n",
        "print(\"Tuple: \",tu)\n",
        "tu1=(34,56,23)\n",
        "tu2=(56,67,78)\n",
        "print(\"Concatenated Tuple:\",tu1+tu2)\n",
        "print(\"Sliced Tuple:\",tu[0:3])\n",
        "print(\"Tuple at 1:\",tu[1])"
      ],
      "metadata": {
        "colab": {
          "base_uri": "https://localhost:8080/"
        },
        "id": "JQ8vhQE-qn1_",
        "outputId": "b8dc1d17-e063-4a9c-e609-7e0ccbfba5be"
      },
      "execution_count": null,
      "outputs": [
        {
          "output_type": "stream",
          "name": "stdout",
          "text": [
            "Tuple:  (1, 2, 1.1, 'hi', False)\n",
            "Concatenated Tuple: (34, 56, 23, 56, 67, 78)\n",
            "Sliced Tuple: (1, 2, 1.1)\n",
            "Tuple at 1: 2\n"
          ]
        }
      ]
    },
    {
      "cell_type": "code",
      "source": [
        "dict1 = {1: 'apple', 2: 'ball'}\n",
        "print(\"Dictionary:\", dict1)\n",
        "print(\"Length of dictionary:\", len(dict1))\n",
        "dict1[3] = 'cat'\n",
        "print(\"Dictionary after adding element:\", dict1)\n",
        "del dict1[2]\n",
        "print(\"Dictionary after deleting element:\", dict1)\n",
        "if 1 in dict1:\n",
        "  print(\"Key 1 exists in dictionary\")\n",
        "else:\n",
        "  print(\"Key 1 does not exist in dictionary\")\n",
        "for key, value in dict1.items():\n",
        "  print(\"Key:\", key, \"Value:\", value)\n"
      ],
      "metadata": {
        "id": "pyBhjNSoscin",
        "colab": {
          "base_uri": "https://localhost:8080/"
        },
        "outputId": "b76da2d4-7c08-4e0c-993d-abc5ba947fa0"
      },
      "execution_count": null,
      "outputs": [
        {
          "output_type": "stream",
          "name": "stdout",
          "text": [
            "Dictionary: {1: 'apple', 2: 'ball'}\n",
            "Length of dictionary: 2\n",
            "Dictionary after adding element: {1: 'apple', 2: 'ball', 3: 'cat'}\n",
            "Dictionary after deleting element: {1: 'apple', 3: 'cat'}\n",
            "Key 1 exists in dictionary\n",
            "Key: 1 Value: apple\n",
            "Key: 3 Value: cat\n"
          ]
        }
      ]
    },
    {
      "cell_type": "code",
      "source": [
        "num1 = float(input(\"Enter first number: \"))\n",
        "num2 = float(input(\"Enter second number: \"))\n",
        "num3 = float(input(\"Enter third number: \"))\n",
        "\n",
        "if (num1 >= num2) and (num1 >= num3):\n",
        "   largest = num1\n",
        "elif (num2 >= num1) and (num2 >= num3):\n",
        "   largest = num2\n",
        "else:\n",
        "   largest = num3\n",
        "\n",
        "print(\"The largest number is\", largest)\n"
      ],
      "metadata": {
        "colab": {
          "base_uri": "https://localhost:8080/"
        },
        "id": "FJF-TQ21KbQ2",
        "outputId": "35bc5253-629d-4cc5-b1cc-0663fac9ad9f"
      },
      "execution_count": null,
      "outputs": [
        {
          "output_type": "stream",
          "name": "stdout",
          "text": [
            "Enter first number: 3\n",
            "Enter second number: 4\n",
            "Enter third number: 5\n",
            "The largest number is 5.0\n"
          ]
        }
      ]
    }
  ]
}